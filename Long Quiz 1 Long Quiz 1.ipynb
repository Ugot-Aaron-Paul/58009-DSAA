{
  "nbformat": 4,
  "nbformat_minor": 0,
  "metadata": {
    "colab": {
      "provenance": [],
      "authorship_tag": "ABX9TyNID3BbnfvuplAsQFg31fEM",
      "include_colab_link": true
    },
    "kernelspec": {
      "name": "python3",
      "display_name": "Python 3"
    },
    "language_info": {
      "name": "python"
    }
  },
  "cells": [
    {
      "cell_type": "markdown",
      "metadata": {
        "id": "view-in-github",
        "colab_type": "text"
      },
      "source": [
        "<a href=\"https://colab.research.google.com/github/Ugot-Aaron-Paul/58009-DSAA/blob/main/Long%20Quiz%201%20Long%20Quiz%201.ipynb\" target=\"_parent\"><img src=\"https://colab.research.google.com/assets/colab-badge.svg\" alt=\"Open In Colab\"/></a>"
      ]
    },
    {
      "cell_type": "code",
      "execution_count": 3,
      "metadata": {
        "id": "NbADuLQkonqG",
        "colab": {
          "base_uri": "https://localhost:8080/"
        },
        "outputId": "c915cdb7-1708-4725-ca42-ae87bc94deb5"
      },
      "outputs": [
        {
          "output_type": "stream",
          "name": "stdout",
          "text": [
            "Full name: Aaron Paul M. Ugot\n",
            "\n",
            "Full name in reverse order: ['t', 'o', 'g', 'U', ' ', '.', 'M', ' ', 'l', 'u', 'a', 'P', ' ', 'n', 'o', 'r', 'a', 'A']\n"
          ]
        }
      ],
      "source": [
        "Name = \"Aaron Paul M. Ugot\"\n",
        "print(\"Full name:\", Name)\n",
        "\n",
        "FullName = []\n",
        "\n",
        "for x in Name:\n",
        "    FullName.append(x)\n",
        "\n",
        "FullName.reverse()\n",
        "print(\"\\nFull name in reverse order:\", FullName)"
      ]
    },
    {
      "cell_type": "code",
      "source": [
        "def Prime(num):\n",
        "    if num <= 1:\n",
        "        return False\n",
        "    if num == 2:\n",
        "        return True\n",
        "    if num % 2 == 0:\n",
        "        return False\n",
        "    for i in range(3, int(num ** 0.5) + 1, 2):\n",
        "        if num % i == 0:\n",
        "            return False\n",
        "    return True\n",
        "\n",
        "x = 1\n",
        "\n",
        "while x <= 10:\n",
        "    if Prime(x):\n",
        "        print(x, \"is prime\")\n",
        "    else:\n",
        "        print(x, \"is composite\")\n",
        "    x += 1"
      ],
      "metadata": {
        "colab": {
          "base_uri": "https://localhost:8080/"
        },
        "id": "i82n5DPN9hoJ",
        "outputId": "7729cc1e-32b7-4015-b8f6-cbbc7de30737"
      },
      "execution_count": 2,
      "outputs": [
        {
          "output_type": "stream",
          "name": "stdout",
          "text": [
            "1 is composite\n",
            "2 is prime\n",
            "3 is prime\n",
            "4 is composite\n",
            "5 is prime\n",
            "6 is composite\n",
            "7 is prime\n",
            "8 is composite\n",
            "9 is composite\n",
            "10 is composite\n"
          ]
        }
      ]
    }
  ]
}