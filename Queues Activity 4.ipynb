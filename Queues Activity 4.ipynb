{
  "nbformat": 4,
  "nbformat_minor": 0,
  "metadata": {
    "colab": {
      "provenance": [],
      "authorship_tag": "ABX9TyOFep4K990kNv5B+YT4A8kL",
      "include_colab_link": true
    },
    "kernelspec": {
      "name": "python3",
      "display_name": "Python 3"
    },
    "language_info": {
      "name": "python"
    }
  },
  "cells": [
    {
      "cell_type": "markdown",
      "metadata": {
        "id": "view-in-github",
        "colab_type": "text"
      },
      "source": [
        "<a href=\"https://colab.research.google.com/github/Ugot-Aaron-Paul/58009-DSAA/blob/main/Queues%20Activity%204.ipynb\" target=\"_parent\"><img src=\"https://colab.research.google.com/assets/colab-badge.svg\" alt=\"Open In Colab\"/></a>"
      ]
    },
    {
      "cell_type": "code",
      "execution_count": 15,
      "metadata": {
        "id": "NbADuLQkonqG",
        "colab": {
          "base_uri": "https://localhost:8080/"
        },
        "outputId": "817d7d62-324d-4506-aff5-0c78e5c0c25d"
      },
      "outputs": [
        {
          "output_type": "stream",
          "name": "stdout",
          "text": [
            "['A', 'B', 'C']\n",
            "[]\n"
          ]
        }
      ],
      "source": [
        "queue = []\n",
        "\n",
        "queue.append('A')\n",
        "queue.append('B')\n",
        "queue.append('C')\n",
        "print(queue)\n",
        "\n",
        "queue.pop(0)\n",
        "queue.pop(0)\n",
        "queue.pop(0)\n",
        "print(queue)"
      ]
    },
    {
      "cell_type": "code",
      "source": [
        "import random\n",
        "\n",
        "tickets = 100\n",
        "cash = 0\n",
        "Customers = []\n",
        "Movies = [\"Armageddon\", \"Red Planet\", \"The Prestige\", \"Olympus Has Fallen\", \"The Truman Show\", \"Megamind\", \"Despicable Me\", \"Steve Jobs\",\"Mission on mars\"]\n",
        "buyers = random.randint(0,100)\n",
        "\n",
        "x = 0\n",
        "while x < buyers:\n",
        "  x+=1\n",
        "  Customers.append(x)\n",
        "print(\"The movie for today is:\",random.choice(Movies))\n",
        "print(\"The Number of Customers for today is:\", len(Customers))\n",
        "\n",
        "while Customers:\n",
        "  tickets -= 1\n",
        "  cash +=180\n",
        "  Customers.pop(0)\n",
        "\n",
        "print(\"The tickets that was not sold:\", tickets)\n",
        "print(\"Profit: ₱\",cash)"
      ],
      "metadata": {
        "colab": {
          "base_uri": "https://localhost:8080/"
        },
        "id": "MOg76xL6sG1J",
        "outputId": "f78cd617-b700-4a8b-da2e-d45a9fa5aa6c"
      },
      "execution_count": 76,
      "outputs": [
        {
          "output_type": "stream",
          "name": "stdout",
          "text": [
            "The movie for today is: Despicable Me\n",
            "The Number of Customers for today is: 60\n",
            "The tickets that was not sold: 40\n",
            "Profit: ₱ 10800\n"
          ]
        }
      ]
    }
  ]
}