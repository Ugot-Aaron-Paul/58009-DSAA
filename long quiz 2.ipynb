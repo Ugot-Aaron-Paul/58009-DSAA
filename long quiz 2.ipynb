{
  "nbformat": 4,
  "nbformat_minor": 0,
  "metadata": {
    "colab": {
      "provenance": [],
      "authorship_tag": "ABX9TyN8jF+KKhE5kdl1WqEYDGSO",
      "include_colab_link": true
    },
    "kernelspec": {
      "name": "python3",
      "display_name": "Python 3"
    },
    "language_info": {
      "name": "python"
    }
  },
  "cells": [
    {
      "cell_type": "markdown",
      "metadata": {
        "id": "view-in-github",
        "colab_type": "text"
      },
      "source": [
        "<a href=\"https://colab.research.google.com/github/Ugot-Aaron-Paul/58009-DSAA/blob/main/long%20quiz%202.ipynb\" target=\"_parent\"><img src=\"https://colab.research.google.com/assets/colab-badge.svg\" alt=\"Open In Colab\"/></a>"
      ]
    },
    {
      "cell_type": "code",
      "execution_count": 3,
      "metadata": {
        "id": "NbADuLQkonqG",
        "colab": {
          "base_uri": "https://localhost:8080/"
        },
        "outputId": "7fdc22a7-72ca-451a-8f20-c6c738c5aca1"
      },
      "outputs": [
        {
          "output_type": "stream",
          "name": "stdout",
          "text": [
            "[{'H', 'I'}, {'H', 'J'}, {'H', 'K'}, {'E', 'I'}, {'F', 'I'}, {'E', 'J'}, {'F', 'J'}, {'E', 'M'}, {'E', 'K'}, {'K', 'F'}, {'P', 'F'}]\n"
          ]
        }
      ],
      "source": [
        "#Display Graph Edges\n",
        "class graph:\n",
        "  def __init__(self,gdict=None):\n",
        "    if gdict is None:\n",
        "      gdict = {}\n",
        "    self.gdict = gdict\n",
        "  def edges(self):\n",
        "    return self.findedges()\n",
        "# Find the distinct list of edges\n",
        "  def findedges(self):\n",
        "    edgename = []\n",
        "    for vrtx in self.gdict:\n",
        "      for nxtvrtx in self.gdict[vrtx]:\n",
        "        if {nxtvrtx, vrtx} not in edgename:\n",
        "          edgename.append({vrtx, nxtvrtx})\n",
        "    return edgename\n",
        "# Create the dictionary with graph elements\n",
        "graph_elements = {\n",
        "    'H' : ['I','J','K'],\n",
        "    'I' : ['E','F','H'],\n",
        "    'J' : ['E','F','H'],\n",
        "    'E' : ['I','M','K','J'],\n",
        "    'K' : ['E','H','F'],\n",
        "    'F' : ['J','K','P','I'],\n",
        "    'M' : ['E'],\n",
        "    'P' : ['F']\n",
        "    }\n",
        "g = graph(graph_elements)\n",
        "print(g.edges())"
      ]
    },
    {
      "cell_type": "code",
      "source": [
        "#Display Graph Vertices\n",
        "class graph:\n",
        "  def __init__(self,gdict=None):\n",
        "    if gdict is None:\n",
        "      gdict = []\n",
        "    self.gdict = gdict\n",
        "# Get the keys of the dictionary\n",
        "  def getVertices(self):\n",
        "    return list(self.gdict.keys())\n",
        "# Create the dictionary with graph elements\n",
        "graph_elements = {\n",
        "    'H' : ['I','J','K'],\n",
        "    'I' : ['E','F','H'],\n",
        "    'J' : ['E','F','H'],\n",
        "    'E' : ['I','M','K','J'],\n",
        "    'K' : ['E','H','F'],\n",
        "    'F' : ['J','K','P','I'],\n",
        "    'M' : ['E'],\n",
        "    'P' : ['F']\n",
        "    }\n",
        "g = graph(graph_elements)\n",
        "print(g.getVertices())"
      ],
      "metadata": {
        "colab": {
          "base_uri": "https://localhost:8080/"
        },
        "id": "LYmGWSmpjGvr",
        "outputId": "33ba9024-d0b0-4687-a804-7b71ec3a55b7"
      },
      "execution_count": 4,
      "outputs": [
        {
          "output_type": "stream",
          "name": "stdout",
          "text": [
            "['H', 'I', 'J', 'E', 'K', 'F', 'M', 'P']\n"
          ]
        }
      ]
    }
  ]
}