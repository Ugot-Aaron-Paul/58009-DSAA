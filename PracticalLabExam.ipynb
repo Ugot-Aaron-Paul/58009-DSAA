{
  "nbformat": 4,
  "nbformat_minor": 0,
  "metadata": {
    "colab": {
      "provenance": [],
      "authorship_tag": "ABX9TyMW0uleMWKQtspC44FnO+FU",
      "include_colab_link": true
    },
    "kernelspec": {
      "name": "python3",
      "display_name": "Python 3"
    },
    "language_info": {
      "name": "python"
    }
  },
  "cells": [
    {
      "cell_type": "markdown",
      "metadata": {
        "id": "view-in-github",
        "colab_type": "text"
      },
      "source": [
        "<a href=\"https://colab.research.google.com/github/Ugot-Aaron-Paul/58009-DSAA/blob/main/PracticalLabExam.ipynb\" target=\"_parent\"><img src=\"https://colab.research.google.com/assets/colab-badge.svg\" alt=\"Open In Colab\"/></a>"
      ]
    },
    {
      "cell_type": "code",
      "execution_count": 5,
      "metadata": {
        "id": "J5K5lp9O4Oah",
        "colab": {
          "base_uri": "https://localhost:8080/"
        },
        "outputId": "a6b52eae-3e82-412f-d95f-44e083a429e4"
      },
      "outputs": [
        {
          "output_type": "stream",
          "name": "stdout",
          "text": [
            "The sum of odd test scores: 211\n"
          ]
        }
      ],
      "source": [
        "def OddTestScores(scores):\n",
        "  total=0\n",
        "  for score in scores:\n",
        "    if score % 2!=0:\n",
        "      total+=score\n",
        "  return total\n",
        "\n",
        "Scores = [26,49,98,87,62,75]\n",
        "\n",
        "oddtestscores=OddTestScores(Scores)\n",
        "print(\"The sum of odd test scores:\", oddtestscores)"
      ]
    }
  ]
}