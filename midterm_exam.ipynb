{
  "nbformat": 4,
  "nbformat_minor": 0,
  "metadata": {
    "colab": {
      "provenance": [],
      "authorship_tag": "ABX9TyPdZDsuw6SQFJWV2RUcUMuo",
      "include_colab_link": true
    },
    "kernelspec": {
      "name": "python3",
      "display_name": "Python 3"
    },
    "language_info": {
      "name": "python"
    }
  },
  "cells": [
    {
      "cell_type": "markdown",
      "metadata": {
        "id": "view-in-github",
        "colab_type": "text"
      },
      "source": [
        "<a href=\"https://colab.research.google.com/github/Ugot-Aaron-Paul/58009-DSAA/blob/main/midterm_exam.ipynb\" target=\"_parent\"><img src=\"https://colab.research.google.com/assets/colab-badge.svg\" alt=\"Open In Colab\"/></a>"
      ]
    },
    {
      "cell_type": "code",
      "execution_count": 6,
      "metadata": {
        "id": "NbADuLQkonqG",
        "colab": {
          "base_uri": "https://localhost:8080/"
        },
        "outputId": "b801731b-1d74-47e1-d89a-aea6063799aa"
      },
      "outputs": [
        {
          "output_type": "stream",
          "name": "stdout",
          "text": [
            "The edges of the graphs are:\n",
            " [{'A', 'B'}, {'E', 'B'}, {'F', 'B'}, {'C', 'B'}, {'E', 'C'}, {'F', 'C'}, {'D', 'C'}, {'M', 'C'}, {'I', 'C'}, {'L', 'D'}, {'K', 'D'}, {'E', 'N'}, {'F', 'G'}, {'F', 'I'}, {'I', 'G'}, {'J', 'G'}, {'I', 'J'}, {'I', 'K'}, {'K', 'J'}, {'L', 'M'}, {'L', 'P'}, {'M', 'N'}, {'M', 'O'}, {'M', 'P'}, {'N', 'O'}, {'P', 'O'}]\n",
            "\n",
            "The vertices of the graphs are:\n",
            " ['A', 'B', 'C', 'D', 'E', 'F', 'G', 'I', 'J', 'K', 'L', 'M', 'N', 'O', 'P']\n"
          ]
        }
      ],
      "source": [
        "class graph:\n",
        "  def __init__(self,gdict=None):\n",
        "    if gdict is None:\n",
        "      gdict = {}\n",
        "    self.gdict = gdict\n",
        "\n",
        "  def edges(self):\n",
        "    return self.findedges()\n",
        "\n",
        "  def findedges(self):\n",
        "    edgename = []\n",
        "    for vrtx in self.gdict:\n",
        "      for nxtvrtx in self.gdict[vrtx]:\n",
        "        if {nxtvrtx, vrtx} not in edgename:\n",
        "          edgename.append({vrtx, nxtvrtx})\n",
        "    return edgename\n",
        "\n",
        "  def getVertices(self):\n",
        "    return list(self.gdict.keys())\n",
        "\n",
        "graph_elements = {\n",
        "    'A' : ['B'],\n",
        "    'B' : ['A','E','F','C'],\n",
        "    'C' : ['B','E','F','D','M','I'],\n",
        "    'D' : ['C','L','K'],\n",
        "    'E' : ['B','C','N'],\n",
        "    'F' : ['B','C','G','I'],\n",
        "    'G' : ['F','I','J'],\n",
        "    'I' : ['C','F','G','J','K'],\n",
        "    'J' : ['G','I','K'],\n",
        "    'K' : ['I','J','D'],\n",
        "    'L' : ['D','M','P'],\n",
        "    'M' : ['C','L','N','O','P'],\n",
        "    'N' : ['E','M','O'],\n",
        "    'O' : ['M','N','P'],\n",
        "    'P' : ['L','M','O']\n",
        "    }\n",
        "\n",
        "g = graph(graph_elements)\n",
        "print(\"The edges of the graphs are:\\n\",g.edges())\n",
        "\n",
        "g = graph(graph_elements)\n",
        "print(\"\\nThe vertices of the graphs are:\\n\",g.getVertices())"
      ]
    }
  ]
}