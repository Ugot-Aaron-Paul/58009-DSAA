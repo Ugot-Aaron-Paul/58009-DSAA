{
  "nbformat": 4,
  "nbformat_minor": 0,
  "metadata": {
    "colab": {
      "provenance": [],
      "authorship_tag": "ABX9TyODWWjLiiLlimL4lerEUr/9",
      "include_colab_link": true
    },
    "kernelspec": {
      "name": "python3",
      "display_name": "Python 3"
    },
    "language_info": {
      "name": "python"
    }
  },
  "cells": [
    {
      "cell_type": "markdown",
      "metadata": {
        "id": "view-in-github",
        "colab_type": "text"
      },
      "source": [
        "<a href=\"https://colab.research.google.com/github/Ugot-Aaron-Paul/58009-DSAA/blob/main/Long_Quiz_1.ipynb\" target=\"_parent\"><img src=\"https://colab.research.google.com/assets/colab-badge.svg\" alt=\"Open In Colab\"/></a>"
      ]
    },
    {
      "cell_type": "code",
      "execution_count": 3,
      "metadata": {
        "id": "NbADuLQkonqG",
        "colab": {
          "base_uri": "https://localhost:8080/"
        },
        "outputId": "c915cdb7-1708-4725-ca42-ae87bc94deb5"
      },
      "outputs": [
        {
          "output_type": "stream",
          "name": "stdout",
          "text": [
            "Full name: Aaron Paul M. Ugot\n",
            "\n",
            "Full name in reverse order: ['t', 'o', 'g', 'U', ' ', '.', 'M', ' ', 'l', 'u', 'a', 'P', ' ', 'n', 'o', 'r', 'a', 'A']\n"
          ]
        }
      ],
      "source": [
        "Name = \"Aaron Paul M. Ugot\"\n",
        "print(\"Full name:\", Name)\n",
        "\n",
        "FullName = []\n",
        "\n",
        "for x in Name:\n",
        "    FullName.append(x)\n",
        "\n",
        "FullName.reverse()\n",
        "print(\"\\nFull name in reverse order:\", FullName)"
      ]
    },
    {
      "cell_type": "code",
      "source": [
        "numbers = [1,2,3,4,5,6,7,8,9,10]\n",
        "print(\"The set of positive numbers given are:\", numbers)\n",
        "def Identify(num):\n",
        "    if num <= 1:\n",
        "        return False\n",
        "    if num == 2:\n",
        "        return True\n",
        "    if num % 2 == 0:\n",
        "        return False\n",
        "    for i in range(3, int(num ** 0.5) + 1, 2):\n",
        "        if num % i == 0:\n",
        "            return False\n",
        "    return True\n",
        "\n",
        "Prime = []\n",
        "Composite = []\n",
        "Neither = []\n",
        "\n",
        "\n",
        "for x in numbers:\n",
        "    if x == 1:\n",
        "      Neither.append(x)\n",
        "    elif Identify(x):\n",
        "      Prime.append(x)\n",
        "    else:\n",
        "      Composite.append(x)\n",
        "\n",
        "print(\"The prime numbers are:\", Prime)\n",
        "print(\"The Composite numbers are:\", Composite)\n",
        "print(\"The number that is neither prime nor composite is:\", Neither)"
      ],
      "metadata": {
        "colab": {
          "base_uri": "https://localhost:8080/"
        },
        "id": "i82n5DPN9hoJ",
        "outputId": "87411053-548a-4592-f5f7-65a86dd3f969"
      },
      "execution_count": 2,
      "outputs": [
        {
          "output_type": "stream",
          "name": "stdout",
          "text": [
            "The set of positive numbers given are: [1, 2, 3, 4, 5, 6, 7, 8, 9, 10]\n",
            "The prime numbers are: [2, 3, 5, 7]\n",
            "The Composite numbers are: [4, 6, 8, 9, 10]\n",
            "The number that is neither prime nor composite is: [1]\n"
          ]
        }
      ]
    }
  ]
}