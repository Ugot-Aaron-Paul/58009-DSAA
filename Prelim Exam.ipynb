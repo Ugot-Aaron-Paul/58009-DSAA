{
  "nbformat": 4,
  "nbformat_minor": 0,
  "metadata": {
    "colab": {
      "provenance": [],
      "authorship_tag": "ABX9TyOragn1Tzo+aMyckfG0ylyf",
      "include_colab_link": true
    },
    "kernelspec": {
      "name": "python3",
      "display_name": "Python 3"
    },
    "language_info": {
      "name": "python"
    }
  },
  "cells": [
    {
      "cell_type": "markdown",
      "metadata": {
        "id": "view-in-github",
        "colab_type": "text"
      },
      "source": [
        "<a href=\"https://colab.research.google.com/github/Ugot-Aaron-Paul/58009-DSAA/blob/main/Prelim%20Exam.ipynb\" target=\"_parent\"><img src=\"https://colab.research.google.com/assets/colab-badge.svg\" alt=\"Open In Colab\"/></a>"
      ]
    },
    {
      "cell_type": "code",
      "execution_count": 8,
      "metadata": {
        "id": "NbADuLQkonqG",
        "colab": {
          "base_uri": "https://localhost:8080/"
        },
        "outputId": "546f2811-4e75-4d6f-8fd9-a87063eaadd5"
      },
      "outputs": [
        {
          "output_type": "stream",
          "name": "stdout",
          "text": [
            "The test scores are: [26, 49, 98, 87, 62, 75]\n",
            "\n",
            "The sum of the test scores is: 397\n",
            "\n",
            "The test scores in acending order: [26, 49, 62, 75, 87, 98]\n"
          ]
        }
      ],
      "source": [
        "\n",
        "Score = [26,49,98,87,62,75]\n",
        "print(\"The test scores are:\",Score)\n",
        "Total = sum(Score) #Sum up the test scores\n",
        "print(\"\\nThe sum of the test scores is:\", Total)\n",
        "Score.sort() #Sorts the program to acending order\n",
        "print(\"\\nThe test scores in acending order:\", Score)\n",
        "\n"
      ]
    }
  ]
}