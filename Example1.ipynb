{
  "nbformat": 4,
  "nbformat_minor": 0,
  "metadata": {
    "colab": {
      "provenance": [],
      "authorship_tag": "ABX9TyO8r73TlRHMPZ3/lxtovPWY",
      "include_colab_link": true
    },
    "kernelspec": {
      "name": "python3",
      "display_name": "Python 3"
    },
    "language_info": {
      "name": "python"
    }
  },
  "cells": [
    {
      "cell_type": "markdown",
      "metadata": {
        "id": "view-in-github",
        "colab_type": "text"
      },
      "source": [
        "<a href=\"https://colab.research.google.com/github/Ugot-Aaron-Paul/58009-DSAA/blob/main/Example1.ipynb\" target=\"_parent\"><img src=\"https://colab.research.google.com/assets/colab-badge.svg\" alt=\"Open In Colab\"/></a>"
      ]
    },
    {
      "cell_type": "code",
      "execution_count": 7,
      "metadata": {
        "id": "57PqhEEEIqbY",
        "outputId": "7f5b0d2f-b696-444a-fb35-c637c7fb8982",
        "colab": {
          "base_uri": "https://localhost:8080/"
        }
      },
      "outputs": [
        {
          "output_type": "stream",
          "name": "stdout",
          "text": [
            "Enter the width: 10\n",
            "Enter the length: 10\n",
            "The Area of the circle is: 100.0\n"
          ]
        }
      ],
      "source": [
        "class Rectangle:\n",
        "  def __init__(self,width,length):\n",
        "    self.width = width\n",
        "    self.length = length\n",
        "\n",
        "  def area(self):\n",
        "    return self.length*self.width\n",
        "\n",
        "  def display(self):\n",
        "    print(\"The Area of the circle is:\", self.area())\n",
        "\n",
        "Width = float(input(\"Enter the width: \"))\n",
        "Length = float(input(\"Enter the length: \"))\n",
        "rectangle = Rectangle(Width,Length)\n",
        "rectangle.display()"
      ]
    }
  ]
}