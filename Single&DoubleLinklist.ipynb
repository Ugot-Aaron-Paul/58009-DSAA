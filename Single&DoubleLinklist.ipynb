{
  "nbformat": 4,
  "nbformat_minor": 0,
  "metadata": {
    "colab": {
      "provenance": [],
      "authorship_tag": "ABX9TyPFc+wT8XOAsbuMSMZ95A5G",
      "include_colab_link": true
    },
    "kernelspec": {
      "name": "python3",
      "display_name": "Python 3"
    },
    "language_info": {
      "name": "python"
    }
  },
  "cells": [
    {
      "cell_type": "markdown",
      "metadata": {
        "id": "view-in-github",
        "colab_type": "text"
      },
      "source": [
        "<a href=\"https://colab.research.google.com/github/Ugot-Aaron-Paul/58009-DSAA/blob/main/Single%26DoubleLinklist.ipynb\" target=\"_parent\"><img src=\"https://colab.research.google.com/assets/colab-badge.svg\" alt=\"Open In Colab\"/></a>"
      ]
    },
    {
      "cell_type": "code",
      "execution_count": 3,
      "metadata": {
        "id": "NbADuLQkonqG",
        "colab": {
          "base_uri": "https://localhost:8080/"
        },
        "outputId": "0d838d1d-b5fe-4f3b-f115-fe6bb20ac31a"
      },
      "outputs": [
        {
          "output_type": "execute_result",
          "data": {
            "text/plain": [
              "array('i', [4, 2, 5, 6, 0, 7, -1])"
            ]
          },
          "metadata": {},
          "execution_count": 3
        }
      ],
      "source": [
        "from array import array\n",
        "# importing array from array module\n",
        "a = array('i',[4,5,6,7])\n",
        "# initializing array\n",
        "a.insert(1,2)\n",
        " # inserting element: 2 at index: 1\n",
        "a\n",
        "# Printing array a\n",
        "array('i', [4, 2, 5, 6, 7])\n",
        "a.insert(-1,0)\n",
        "# insert element: 0 at index: -1\n",
        "a\n",
        "a.insert(10, -1)\n",
        "# insert element: -1 at index: 10, this is out of range\n",
        "a\n",
        "array('i', [4, 2, 5, 6, 0, 7, -1])"
      ]
    },
    {
      "cell_type": "code",
      "source": [
        "import array\n",
        "array.typecodes\n",
        "a = array.array('i',[1,2,3,4,5,6])\n",
        "b = str('f')\n",
        "a.typecode\n",
        "print(a)\n",
        "a = array.array(b, [1,2,3,4,5,6])\n",
        "a.typecode\n",
        "print(a)"
      ],
      "metadata": {
        "colab": {
          "base_uri": "https://localhost:8080/"
        },
        "id": "w0htMDWSCdUC",
        "outputId": "5c22d983-ad9c-402a-8752-fe62e9ed8c2d"
      },
      "execution_count": 60,
      "outputs": [
        {
          "output_type": "stream",
          "name": "stdout",
          "text": [
            "array('i', [1, 2, 3, 4, 5, 6])\n",
            "array('f', [1.0, 2.0, 3.0, 4.0, 5.0, 6.0])\n"
          ]
        }
      ]
    },
    {
      "cell_type": "code",
      "source": [
        "import array\n",
        "array.typecodes #get all typecodes\n",
        "a = array.array('i', [1,2,3,4,5,6])\n",
        "b = array.array('f', [1.5,2.5,3.5,4.5,5.5,6.5]) #initializing array b\n",
        "a.typecode #getting the typecode of a\n",
        "b.typecode #getting the typecode of b"
      ],
      "metadata": {
        "colab": {
          "base_uri": "https://localhost:8080/",
          "height": 35
        },
        "id": "OPLi5V6cu6oA",
        "outputId": "b3076dfa-efc9-4496-e1d7-55bf13046913"
      },
      "execution_count": 13,
      "outputs": [
        {
          "output_type": "execute_result",
          "data": {
            "text/plain": [
              "'f'"
            ],
            "application/vnd.google.colaboratory.intrinsic+json": {
              "type": "string"
            }
          },
          "metadata": {},
          "execution_count": 13
        }
      ]
    },
    {
      "cell_type": "code",
      "source": [
        "#A simple Python program to introduce a linked list\n",
        "\n",
        "# Node class\n",
        "class Node:\n",
        "\n",
        "  #Function to initialized the node object\n",
        "  def __init__(self,data):\n",
        "    self.data = data #Assign data\n",
        "    self.next = None #Initialize next as null\n",
        "\n",
        "# Linked list class contains a Node object\n",
        "class LinkedList:\n",
        "\n",
        "  # Function to initialize head\n",
        "  def __init__(self):\n",
        "    self.head = None\n",
        "\n",
        "  def printlist(self):\n",
        "    temp = self.head\n",
        "    while (temp):\n",
        "      print(temp.data)\n",
        "      temp = temp.next\n",
        "#Code execution starts here\n",
        "if __name__=='__main__':\n",
        "\n",
        "  #Start with the empty list\n",
        "  llist = LinkedList()\n",
        "\n",
        "  llist.head = Node(1)\n",
        "  second = Node(2)\n",
        "  third = Node(3)\n",
        "\n",
        "  llist.head.next = second; #link first node with second\n",
        "  second.next = third; #Link second node with the third node\n",
        "\n",
        "\n",
        "  llist.printlist()\n",
        "\n",
        "  llist.head = Node(2)\n",
        "  second = Node(1)\n",
        "\n",
        "  llist.head.next = second;\n",
        "\n",
        "  llist.printlist()"
      ],
      "metadata": {
        "colab": {
          "base_uri": "https://localhost:8080/"
        },
        "id": "eOdpbPnOxpsW",
        "outputId": "10bd0fa3-b2a3-4bd5-a463-bf897714f09e"
      },
      "execution_count": 65,
      "outputs": [
        {
          "output_type": "stream",
          "name": "stdout",
          "text": [
            "1\n",
            "2\n",
            "3\n",
            "2\n",
            "1\n"
          ]
        }
      ]
    }
  ]
}