{
  "nbformat": 4,
  "nbformat_minor": 0,
  "metadata": {
    "colab": {
      "provenance": [],
      "authorship_tag": "ABX9TyNQtX4IAtCll2LHN3OSB3lP",
      "include_colab_link": true
    },
    "kernelspec": {
      "name": "python3",
      "display_name": "Python 3"
    },
    "language_info": {
      "name": "python"
    }
  },
  "cells": [
    {
      "cell_type": "markdown",
      "metadata": {
        "id": "view-in-github",
        "colab_type": "text"
      },
      "source": [
        "<a href=\"https://colab.research.google.com/github/Ugot-Aaron-Paul/58009-DSAA/blob/main/Lab%209%20-%20MATRIX_ALGEBRA.ipynb\" target=\"_parent\"><img src=\"https://colab.research.google.com/assets/colab-badge.svg\" alt=\"Open In Colab\"/></a>"
      ]
    },
    {
      "cell_type": "markdown",
      "source": [
        "Associative"
      ],
      "metadata": {
        "id": "XVA_AjPFAQvp"
      }
    },
    {
      "cell_type": "code",
      "execution_count": 25,
      "metadata": {
        "id": "NbADuLQkonqG",
        "colab": {
          "base_uri": "https://localhost:8080/"
        },
        "outputId": "f37101ce-afee-4c73-f887-9da379e16a02"
      },
      "outputs": [
        {
          "output_type": "stream",
          "name": "stdout",
          "text": [
            "Result 1 is:\n",
            " [[186 355 263]\n",
            " [463 946 637]\n",
            " [198 406 272]]\n",
            "Result 2 is:\n",
            " [[186 355 263]\n",
            " [463 946 637]\n",
            " [198 406 272]]\n"
          ]
        }
      ],
      "source": [
        "import numpy as np\n",
        "A = np.array([[1,2,3],[9,1,1],[4,2,0]])\n",
        "B = np.array([[7,6,9],[1,1,1],[6,6,6]])\n",
        "C = np.array([[1,2,3],[5,6,7],[1,5,0]])\n",
        "\n",
        "Result1 = np.dot(np.dot(A,B),C)\n",
        "Result2 = np.dot(A,np.dot(B,C))\n",
        "\n",
        "print(\"Result 1 is:\\n\",Result1)\n",
        "\n",
        "print(\"Result 2 is:\\n\",Result2)"
      ]
    },
    {
      "cell_type": "markdown",
      "source": [
        "Distributive"
      ],
      "metadata": {
        "id": "GicD4gABBqpE"
      }
    },
    {
      "cell_type": "code",
      "source": [
        "Result1 = np.dot(A, B + C)\n",
        "\n",
        "Result2 = np.dot(A, B) + np.dot(A, C)\n",
        "\n",
        "print(\"Result 1 is:\\n\",Result1)\n",
        "\n",
        "print(\"Result 2 is:\\n\",Result2)"
      ],
      "metadata": {
        "colab": {
          "base_uri": "https://localhost:8080/"
        },
        "id": "QyJk2Udv7Aqj",
        "outputId": "e71feede-f551-4857-9980-aeddde5f563c"
      },
      "execution_count": 26,
      "outputs": [
        {
          "output_type": "stream",
          "name": "stdout",
          "text": [
            "Result 1 is:\n",
            " [[ 41  55  46]\n",
            " [ 85  90 122]\n",
            " [ 44  46  64]]\n",
            "Result 2 is:\n",
            " [[ 41  55  46]\n",
            " [ 85  90 122]\n",
            " [ 44  46  64]]\n"
          ]
        }
      ]
    },
    {
      "cell_type": "markdown",
      "source": [
        "Identity"
      ],
      "metadata": {
        "id": "jFVPmsdDB_Hl"
      }
    },
    {
      "cell_type": "code",
      "source": [
        "I = np.identity(3)\n",
        "\n",
        "Result1 = np.dot(A, I)\n",
        "\n",
        "Result2 = A\n",
        "\n",
        "print(\"Result 1 is:\\n\",Result1)\n",
        "\n",
        "print(\"Result 2 is:\\n\",Result2)"
      ],
      "metadata": {
        "colab": {
          "base_uri": "https://localhost:8080/"
        },
        "id": "zgeNMu8ECFxt",
        "outputId": "3cf79f3a-c297-41d3-ecfd-5366b2b2172a"
      },
      "execution_count": 27,
      "outputs": [
        {
          "output_type": "stream",
          "name": "stdout",
          "text": [
            "Result 1 is:\n",
            " [[1. 2. 3.]\n",
            " [9. 1. 1.]\n",
            " [4. 2. 0.]]\n",
            "Result 2 is:\n",
            " [[1 2 3]\n",
            " [9 1 1]\n",
            " [4 2 0]]\n"
          ]
        }
      ]
    },
    {
      "cell_type": "markdown",
      "source": [
        "Zero"
      ],
      "metadata": {
        "id": "eVUfe-nFCeCs"
      }
    },
    {
      "cell_type": "code",
      "source": [
        "zero_matrix = np.zeros_like(A)\n",
        "\n",
        "Result1 = np.dot(A, zero_matrix)\n",
        "\n",
        "Result2 = zero_matrix\n",
        "\n",
        "print(\"Result 1 is:\\n\",Result1)\n",
        "\n",
        "print(\"Result 2 is:\\n\",Result2)"
      ],
      "metadata": {
        "colab": {
          "base_uri": "https://localhost:8080/"
        },
        "id": "F_Gyph2zCfmM",
        "outputId": "fe4f8c0e-5f4b-48bd-fedc-8da0815528b9"
      },
      "execution_count": 31,
      "outputs": [
        {
          "output_type": "stream",
          "name": "stdout",
          "text": [
            "Result 1 is:\n",
            " [[0 0 0]\n",
            " [0 0 0]\n",
            " [0 0 0]]\n",
            "Result 2 is:\n",
            " [[0 0 0]\n",
            " [0 0 0]\n",
            " [0 0 0]]\n"
          ]
        }
      ]
    },
    {
      "cell_type": "markdown",
      "source": [
        "Scalar"
      ],
      "metadata": {
        "id": "yeHR5_RYDAxK"
      }
    },
    {
      "cell_type": "code",
      "source": [
        "k = 2\n",
        "\n",
        "Result1 = np.dot(k * A, B)\n",
        "\n",
        "Result2 = k * np.dot(A, B)\n",
        "\n",
        "print(\"Result 1 is:\\n\",Result1)\n",
        "\n",
        "print(\"Result 2 is:\\n\",Result2)"
      ],
      "metadata": {
        "colab": {
          "base_uri": "https://localhost:8080/"
        },
        "id": "vFF6tmiTDFsq",
        "outputId": "daac5f6a-fc74-4736-e4aa-fa9d77ea3f5f"
      },
      "execution_count": 32,
      "outputs": [
        {
          "output_type": "stream",
          "name": "stdout",
          "text": [
            "Result 1 is:\n",
            " [[ 54  52  58]\n",
            " [140 122 176]\n",
            " [ 60  52  76]]\n",
            "Result 2 is:\n",
            " [[ 54  52  58]\n",
            " [140 122 176]\n",
            " [ 60  52  76]]\n"
          ]
        }
      ]
    },
    {
      "cell_type": "markdown",
      "source": [
        "Transpose"
      ],
      "metadata": {
        "id": "umswNgSCDRkj"
      }
    },
    {
      "cell_type": "code",
      "source": [
        "Result1 = np.dot(A, B).T\n",
        "\n",
        "Result2 = np.dot(B.T, A.T)\n",
        "\n",
        "print(\"Result 1 is:\\n\",Result1)\n",
        "\n",
        "print(\"Result 2 is:\\n\",Result2)"
      ],
      "metadata": {
        "colab": {
          "base_uri": "https://localhost:8080/"
        },
        "id": "pcb9eAt9DSIb",
        "outputId": "6ba6c565-4828-4f25-a9df-7afdc5f4ba93"
      },
      "execution_count": 33,
      "outputs": [
        {
          "output_type": "stream",
          "name": "stdout",
          "text": [
            "Result 1 is:\n",
            " [[27 70 30]\n",
            " [26 61 26]\n",
            " [29 88 38]]\n",
            "Result 2 is:\n",
            " [[27 70 30]\n",
            " [26 61 26]\n",
            " [29 88 38]]\n"
          ]
        }
      ]
    }
  ]
}